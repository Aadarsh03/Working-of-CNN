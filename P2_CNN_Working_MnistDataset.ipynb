{
  "nbformat": 4,
  "nbformat_minor": 0,
  "metadata": {
    "colab": {
      "provenance": []
    },
    "kernelspec": {
      "name": "python3",
      "display_name": "Python 3"
    },
    "language_info": {
      "name": "python"
    }
  },
  "cells": [
    {
      "cell_type": "code",
      "execution_count": 2,
      "metadata": {
        "id": "ezZuRqu3_96L"
      },
      "outputs": [],
      "source": [
        "import tensorflow as tf\n",
        "from tensorflow.keras import layers, models\n",
        "from tensorflow.keras.datasets import mnist\n",
        "from tensorflow.keras.utils import to_categorical"
      ]
    },
    {
      "cell_type": "code",
      "source": [
        "# Load and preprocess the MNIST dataset\n",
        "(train_images, train_labels), (test_images, test_labels) = mnist.load_data()\n",
        "train_images=train_images.reshape((60000, 28, 28,1))\n",
        "test_images=test_images.reshape((10000, 28, 28,1))\n",
        "train_images=train_images.astype('float32')/255\n",
        "test_images=test_images.astype('float32')/255\n",
        "train_labels=to_categorical(train_labels)\n",
        "test_labels=to_categorical(test_labels)"
      ],
      "metadata": {
        "id": "0aSj7bnuDoQe",
        "colab": {
          "base_uri": "https://localhost:8080/"
        },
        "outputId": "a89e2e02-c874-449b-f0f7-2069b648d223"
      },
      "execution_count": 3,
      "outputs": [
        {
          "output_type": "stream",
          "name": "stdout",
          "text": [
            "Downloading data from https://storage.googleapis.com/tensorflow/tf-keras-datasets/mnist.npz\n",
            "11490434/11490434 [==============================] - 0s 0us/step\n"
          ]
        }
      ]
    },
    {
      "cell_type": "code",
      "source": [
        "# Create a simple CNN model\n",
        "model=models.Sequential()\n",
        "model.add(layers.Conv2D(32, (3,3), activation ='relu', input_shape=(28,28,1)))\n",
        "model.add(layers.MaxPooling2D((2,2)))\n",
        "model.add(layers.Conv2D(64, (3,3), activation='relu'))\n",
        "model.add(layers.MaxPooling2D((2,2)))\n",
        "model.add(layers.Conv2D(64, (3, 3), activation='relu'))\n",
        "model.add(layers. Flatten())\n",
        "model.add(layers.Dense(64, activation='relu'))\n",
        "model.add(layers.Dense(10, activation='softmax'))"
      ],
      "metadata": {
        "id": "cCpY1OK6GZut"
      },
      "execution_count": 4,
      "outputs": []
    },
    {
      "cell_type": "code",
      "source": [
        "# Compile the model\n",
        "model.compile(optimizer='adam',\n",
        "              loss='categorical_crossentropy',\n",
        "              metrics=['accuracy'])\n",
        "print(model.summary())"
      ],
      "metadata": {
        "id": "JKsE0yM4M--V",
        "colab": {
          "base_uri": "https://localhost:8080/"
        },
        "outputId": "fc0ac72e-991e-497f-9f78-e239635171e1"
      },
      "execution_count": 5,
      "outputs": [
        {
          "output_type": "stream",
          "name": "stdout",
          "text": [
            "Model: \"sequential\"\n",
            "_________________________________________________________________\n",
            " Layer (type)                Output Shape              Param #   \n",
            "=================================================================\n",
            " conv2d (Conv2D)             (None, 26, 26, 32)        320       \n",
            "                                                                 \n",
            " max_pooling2d (MaxPooling2  (None, 13, 13, 32)        0         \n",
            " D)                                                              \n",
            "                                                                 \n",
            " conv2d_1 (Conv2D)           (None, 11, 11, 64)        18496     \n",
            "                                                                 \n",
            " max_pooling2d_1 (MaxPoolin  (None, 5, 5, 64)          0         \n",
            " g2D)                                                            \n",
            "                                                                 \n",
            " conv2d_2 (Conv2D)           (None, 3, 3, 64)          36928     \n",
            "                                                                 \n",
            " flatten (Flatten)           (None, 576)               0         \n",
            "                                                                 \n",
            " dense (Dense)               (None, 64)                36928     \n",
            "                                                                 \n",
            " dense_1 (Dense)             (None, 10)                650       \n",
            "                                                                 \n",
            "=================================================================\n",
            "Total params: 93322 (364.54 KB)\n",
            "Trainable params: 93322 (364.54 KB)\n",
            "Non-trainable params: 0 (0.00 Byte)\n",
            "_________________________________________________________________\n",
            "None\n"
          ]
        }
      ]
    },
    {
      "cell_type": "code",
      "source": [
        "# Train the model\n",
        "model.fit(train_images, train_labels, epochs=5, batch_size=64, validation_data=(test_images, test_labels))"
      ],
      "metadata": {
        "colab": {
          "base_uri": "https://localhost:8080/"
        },
        "id": "6QUaFN5iRGVo",
        "outputId": "bb4b0265-6a31-496c-bf7a-27b3a200d56d"
      },
      "execution_count": 6,
      "outputs": [
        {
          "output_type": "stream",
          "name": "stdout",
          "text": [
            "Epoch 1/5\n",
            "938/938 [==============================] - 55s 57ms/step - loss: 0.1815 - accuracy: 0.9451 - val_loss: 0.0476 - val_accuracy: 0.9836\n",
            "Epoch 2/5\n",
            "938/938 [==============================] - 51s 55ms/step - loss: 0.0508 - accuracy: 0.9840 - val_loss: 0.0333 - val_accuracy: 0.9882\n",
            "Epoch 3/5\n",
            "938/938 [==============================] - 50s 53ms/step - loss: 0.0361 - accuracy: 0.9887 - val_loss: 0.0307 - val_accuracy: 0.9905\n",
            "Epoch 4/5\n",
            "938/938 [==============================] - 54s 57ms/step - loss: 0.0282 - accuracy: 0.9913 - val_loss: 0.0304 - val_accuracy: 0.9882\n",
            "Epoch 5/5\n",
            "938/938 [==============================] - 60s 64ms/step - loss: 0.0223 - accuracy: 0.9930 - val_loss: 0.0251 - val_accuracy: 0.9920\n"
          ]
        },
        {
          "output_type": "execute_result",
          "data": {
            "text/plain": [
              "<keras.src.callbacks.History at 0x7c7e79398fa0>"
            ]
          },
          "metadata": {},
          "execution_count": 6
        }
      ]
    },
    {
      "cell_type": "code",
      "source": [
        "# Evaluate the model on the test data\n",
        "test_loss, test_acc = model.evaluate(test_images, test_labels)\n",
        "print(f'Test accuracy: {test_acc * 100:.2f}%')\n",
        "\n",
        "predictions = model.predict(test_images[1:25])\n",
        "\n",
        "print('Prediction\\n', predictions)\n",
        "print('\\nThresholded output\\n', (predictions > 0.5).astype(int))"
      ],
      "metadata": {
        "colab": {
          "base_uri": "https://localhost:8080/"
        },
        "id": "Dqnl3cZHRJ0l",
        "outputId": "8753cdc8-8dd9-49d4-bae6-a75575686b26"
      },
      "execution_count": 10,
      "outputs": [
        {
          "output_type": "stream",
          "name": "stdout",
          "text": [
            "313/313 [==============================] - 3s 8ms/step - loss: 0.0251 - accuracy: 0.9920\n",
            "Test accuracy: 99.20%\n",
            "1/1 [==============================] - 0s 23ms/step\n",
            "Prediction\n",
            " [[4.63608529e-08 2.11961560e-06 9.99996126e-01 1.71379255e-09\n",
            "  6.82795598e-09 1.42322629e-11 4.45822268e-09 1.71857755e-06\n",
            "  1.87416997e-08 7.84164942e-13]\n",
            " [1.81019928e-08 9.99948442e-01 6.17658884e-08 1.25850252e-09\n",
            "  2.10236976e-05 4.05541954e-07 7.12847807e-08 2.93348803e-05\n",
            "  4.16192563e-07 1.48220948e-07]\n",
            " [9.99989927e-01 5.31368105e-09 6.06672893e-06 1.96792516e-09\n",
            "  1.81759177e-08 8.29166424e-08 1.89326170e-06 1.70004557e-06\n",
            "  1.65666776e-07 9.86279787e-08]\n",
            " [1.87462579e-09 2.93250864e-08 1.52433977e-08 6.23517127e-10\n",
            "  9.99942243e-01 8.99361385e-09 1.22441579e-09 8.51332629e-07\n",
            "  5.93485687e-08 5.67907045e-05]\n",
            " [8.03833800e-09 9.99979317e-01 1.67774150e-08 7.47841303e-11\n",
            "  2.87963917e-06 9.17488840e-09 2.55686849e-09 1.75396999e-05\n",
            "  2.08871882e-07 5.07742151e-08]\n",
            " [2.30845509e-10 2.39896650e-07 6.66473952e-08 3.91608690e-11\n",
            "  9.99620020e-01 1.91624032e-08 3.57224077e-11 2.84341036e-06\n",
            "  3.24810389e-04 5.20068934e-05]\n",
            " [2.36884429e-10 3.76145444e-08 1.69595396e-08 7.90606158e-09\n",
            "  2.91286378e-05 7.05545844e-08 1.75983013e-12 1.45306888e-06\n",
            "  2.04116652e-08 9.99969184e-01]\n",
            " [3.19097268e-07 1.30627711e-07 3.61407508e-08 2.14314191e-10\n",
            "  1.29251589e-07 9.98772860e-01 1.20107096e-03 2.82197532e-09\n",
            "  5.47165155e-06 2.00466948e-05]\n",
            " [5.91549865e-10 2.74732348e-10 1.14179177e-09 6.93252300e-09\n",
            "  4.38826246e-05 1.14169488e-07 9.78590039e-13 5.67929928e-05\n",
            "  1.42989597e-06 9.99897659e-01]\n",
            " [9.99999106e-01 5.94920309e-08 5.86966244e-08 1.38215051e-10\n",
            "  4.12844092e-10 2.71910577e-10 3.08616310e-09 6.78611229e-07\n",
            "  2.50939767e-08 2.39601903e-08]\n",
            " [1.40633551e-06 3.16855847e-11 3.24973659e-11 1.81545881e-12\n",
            "  3.24668559e-09 1.09147518e-08 9.99998391e-01 8.92026557e-12\n",
            "  9.09358491e-08 1.01354003e-11]\n",
            " [5.68880221e-11 4.28048499e-11 9.37613737e-11 1.31258020e-07\n",
            "  7.83177893e-05 3.86634412e-07 1.66382565e-12 1.91032323e-05\n",
            "  2.16961482e-07 9.99901712e-01]\n",
            " [9.99990523e-01 4.12836831e-09 3.08209849e-07 2.66965589e-10\n",
            "  3.22905203e-10 2.37908555e-08 1.06277591e-08 8.91964464e-06\n",
            "  1.59186015e-07 1.25843593e-08]\n",
            " [3.57735397e-09 9.99998391e-01 4.70548989e-10 3.81393750e-10\n",
            "  8.74006616e-07 2.09260662e-07 2.58496726e-08 1.11675213e-07\n",
            "  1.54744484e-07 4.90494720e-08]\n",
            " [1.43410694e-09 1.49683839e-08 7.46435067e-11 2.95813811e-06\n",
            "  5.20207870e-11 9.99996960e-01 3.55774477e-09 8.59725513e-10\n",
            "  2.21546035e-08 4.20017976e-09]\n",
            " [2.45630627e-10 2.63976951e-10 7.99955269e-10 5.47808199e-08\n",
            "  1.08721633e-05 1.14683530e-07 1.74686463e-11 2.31787679e-04\n",
            "  7.80217349e-08 9.99757051e-01]\n",
            " [8.68356853e-09 3.15507975e-09 8.93757743e-08 1.17466493e-06\n",
            "  1.45985646e-09 1.49783631e-07 4.79695710e-13 9.99995291e-01\n",
            "  2.88813240e-09 3.22163919e-06]\n",
            " [4.29659895e-06 3.26352801e-06 2.78342759e-05 9.45932806e-01\n",
            "  5.93283914e-07 5.32177277e-02 6.90660727e-07 5.67456254e-06\n",
            "  7.39050156e-04 6.81578676e-05]\n",
            " [4.95817332e-10 2.16527553e-07 3.09491170e-08 7.09952319e-09\n",
            "  9.99981582e-01 1.76488761e-08 2.33203110e-11 1.72763084e-05\n",
            "  3.18017754e-08 8.23379253e-07]\n",
            " [2.50046135e-08 2.47477942e-07 3.22742402e-08 3.64158467e-07\n",
            "  1.57836344e-04 1.09004600e-06 2.59159664e-12 1.77939190e-03\n",
            "  5.54574171e-07 9.98060405e-01]\n",
            " [1.51237188e-07 1.44088519e-10 5.00625263e-10 3.52907009e-10\n",
            "  7.32608063e-09 1.42372650e-04 9.99854803e-01 8.92827826e-12\n",
            "  2.70926148e-06 1.09105100e-10]\n",
            " [9.87910653e-07 1.86244042e-09 6.66336777e-11 6.34395661e-12\n",
            "  3.61751461e-07 1.14259922e-06 9.99997437e-01 7.29801330e-10\n",
            "  3.01270298e-08 9.51877333e-09]\n",
            " [1.04321317e-11 1.12015797e-09 1.76313310e-13 4.71594967e-06\n",
            "  1.09582135e-10 9.99994695e-01 3.72918763e-09 1.15808656e-11\n",
            "  1.57570990e-09 4.95566042e-07]\n",
            " [6.46886065e-08 2.33283777e-06 2.33323613e-06 5.09151699e-09\n",
            "  9.99879539e-01 2.06475150e-07 2.15319318e-08 9.65702784e-05\n",
            "  2.01453773e-07 1.85208319e-05]]\n",
            "\n",
            "Thresholded output\n",
            " [[0 0 1 0 0 0 0 0 0 0]\n",
            " [0 1 0 0 0 0 0 0 0 0]\n",
            " [1 0 0 0 0 0 0 0 0 0]\n",
            " [0 0 0 0 1 0 0 0 0 0]\n",
            " [0 1 0 0 0 0 0 0 0 0]\n",
            " [0 0 0 0 1 0 0 0 0 0]\n",
            " [0 0 0 0 0 0 0 0 0 1]\n",
            " [0 0 0 0 0 1 0 0 0 0]\n",
            " [0 0 0 0 0 0 0 0 0 1]\n",
            " [1 0 0 0 0 0 0 0 0 0]\n",
            " [0 0 0 0 0 0 1 0 0 0]\n",
            " [0 0 0 0 0 0 0 0 0 1]\n",
            " [1 0 0 0 0 0 0 0 0 0]\n",
            " [0 1 0 0 0 0 0 0 0 0]\n",
            " [0 0 0 0 0 1 0 0 0 0]\n",
            " [0 0 0 0 0 0 0 0 0 1]\n",
            " [0 0 0 0 0 0 0 1 0 0]\n",
            " [0 0 0 1 0 0 0 0 0 0]\n",
            " [0 0 0 0 1 0 0 0 0 0]\n",
            " [0 0 0 0 0 0 0 0 0 1]\n",
            " [0 0 0 0 0 0 1 0 0 0]\n",
            " [0 0 0 0 0 0 1 0 0 0]\n",
            " [0 0 0 0 0 1 0 0 0 0]\n",
            " [0 0 0 0 1 0 0 0 0 0]]\n"
          ]
        }
      ]
    },
    {
      "cell_type": "code",
      "source": [],
      "metadata": {
        "id": "Oh1wybAlbn94"
      },
      "execution_count": null,
      "outputs": []
    }
  ]
}
